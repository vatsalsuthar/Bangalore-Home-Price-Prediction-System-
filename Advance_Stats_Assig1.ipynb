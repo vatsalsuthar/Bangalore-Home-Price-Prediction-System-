{
  "nbformat": 4,
  "nbformat_minor": 0,
  "metadata": {
    "colab": {
      "name": "Advance_Stats_Assig1.ipynb",
      "provenance": [],
      "toc_visible": true
    },
    "kernelspec": {
      "name": "python3",
      "display_name": "Python 3"
    }
  },
  "cells": [
    {
      "cell_type": "code",
      "metadata": {
        "id": "PUgwCf-jhJvc"
      },
      "source": [
        "import numpy as np\r\n",
        "import statistics as stat\r\n",
        "from matplotlib import pyplot as plt\r\n",
        "import pandas as pd"
      ],
      "execution_count": 13,
      "outputs": []
    },
    {
      "cell_type": "code",
      "metadata": {
        "id": "bb5HXEV_j3r0",
        "colab": {
          "base_uri": "https://localhost:8080/",
          "height": 367
        },
        "outputId": "66a5a922-015a-4d37-8072-7b36acddfbe4"
      },
      "source": [
        "a=np.random.normal(10)\r\n",
        "print(a)\r\n",
        "plt.hist(a,10)"
      ],
      "execution_count": 8,
      "outputs": [
        {
          "output_type": "stream",
          "text": [
            "10.169660361849791\n"
          ],
          "name": "stdout"
        },
        {
          "output_type": "execute_result",
          "data": {
            "text/plain": [
              "(array([0., 0., 0., 0., 0., 1., 0., 0., 0., 0.]),\n",
              " array([ 9.66966036,  9.76966036,  9.86966036,  9.96966036, 10.06966036,\n",
              "        10.16966036, 10.26966036, 10.36966036, 10.46966036, 10.56966036,\n",
              "        10.66966036]),\n",
              " <a list of 10 Patch objects>)"
            ]
          },
          "metadata": {
            "tags": []
          },
          "execution_count": 8
        },
        {
          "output_type": "display_data",
          "data": {
            "image/png": "[encoded data removed]",
            "text/plain": [
              "<Figure size 432x288 with 1 Axes>"
            ]
          },
          "metadata": {
            "tags": [],
            "needs_background": "light"
          }
        }
      ]
    },
    {
      "cell_type": "code",
      "metadata": {
        "colab": {
          "base_uri": "https://localhost:8080/",
          "height": 350
        },
        "id": "0RFQPS8oVxkt",
        "outputId": "57d169f8-61fd-48be-bdc7-018217254d55"
      },
      "source": [
        "var_mean = 50 \r\n",
        "var_sd = 5\r\n",
        "a= np.random.normal(10,var_mean,var_sd)\r\n",
        "plt.hist(a)"
      ],
      "execution_count": 11,
      "outputs": [
        {
          "output_type": "execute_result",
          "data": {
            "text/plain": [
              "(array([1., 0., 0., 0., 1., 0., 0., 0., 1., 2.]),\n",
              " array([-65.38344743, -56.28363998, -47.18383253, -38.08402508,\n",
              "        -28.98421763, -19.88441018, -10.78460273,  -1.68479528,\n",
              "          7.41501218,  16.51481963,  25.61462708]),\n",
              " <a list of 10 Patch objects>)"
            ]
          },
          "metadata": {
            "tags": []
          },
          "execution_count": 11
        },
        {
          "output_type": "display_data",
          "data": {
            "image/png": "[encoded data removed]",
            "text/plain": [
              "<Figure size 432x288 with 1 Axes>"
            ]
          },
          "metadata": {
            "tags": [],
            "needs_background": "light"
          }
        }
      ]
    },
    {
      "cell_type": "code",
      "metadata": {
        "colab": {
          "base_uri": "https://localhost:8080/",
          "height": 350
        },
        "id": "2ZnULJl2XD0a",
        "outputId": "e9578755-5a57-4cb3-d78a-3f06222e5aab"
      },
      "source": [
        "mean=50\r\n",
        "sd=5\r\n",
        "b=np.random.normal(100,mean,sd)\r\n",
        "plt.hist(b)"
      ],
      "execution_count": 12,
      "outputs": [
        {
          "output_type": "execute_result",
          "data": {
            "text/plain": [
              "(array([1., 0., 1., 0., 0., 0., 2., 0., 0., 1.]),\n",
              " array([112.72270968, 119.04341125, 125.36411282, 131.68481438,\n",
              "        138.00551595, 144.32621752, 150.64691909, 156.96762065,\n",
              "        163.28832222, 169.60902379, 175.92972535]),\n",
              " <a list of 10 Patch objects>)"
            ]
          },
          "metadata": {
            "tags": []
          },
          "execution_count": 12
        },
        {
          "output_type": "display_data",
          "data": {
            "image/png": "[encoded data removed]",
            "text/plain": [
              "<Figure size 432x288 with 1 Axes>"
            ]
          },
          "metadata": {
            "tags": [],
            "needs_background": "light"
          }
        }
      ]
    },
    {
      "cell_type": "code",
      "metadata": {
        "colab": {
          "base_uri": "https://localhost:8080/",
          "height": 296
        },
        "id": "6AcKMyn7cA44",
        "outputId": "a8a05044-7ece-4535-b9c6-77adbc327f6f"
      },
      "source": [
        "x= list(range(10))\r\n",
        "c=plt.xlabel('histogram of dataset1')\r\n",
        "c=plt.ylabel('frequence of data')\r\n",
        "plt.hist(x)\r\n",
        "stat.mean(x)\r\n",
        "stat.median(x)\r\n",
        "stat.stdev(x)"
      ],
      "execution_count": 27,
      "outputs": [
        {
          "output_type": "execute_result",
          "data": {
            "text/plain": [
              "3.0276503540974917"
            ]
          },
          "metadata": {
            "tags": []
          },
          "execution_count": 27
        },
        {
          "output_type": "display_data",
          "data": {
            "image/png": "[encoded data removed]",
            "text/plain": [
              "<Figure size 432x288 with 1 Axes>"
            ]
          },
          "metadata": {
            "tags": [],
            "needs_background": "light"
          }
        }
      ]
    },
    {
      "cell_type": "code",
      "metadata": {
        "colab": {
          "base_uri": "https://localhost:8080/",
          "height": 296
        },
        "id": "GxBSkW7lfG2w",
        "outputId": "9d2ce27d-f6c9-44ed-b677-ddf1e6613bda"
      },
      "source": [
        "y= list(range(100))\r\n",
        "d=plt.xlabel('dataset2')\r\n",
        "d=plt.ylabel('frequence')\r\n",
        "plt.hist(y)\r\n",
        "stat.mean(y)\r\n",
        "stat.median(y)\r\n",
        "stat.stdev(y)"
      ],
      "execution_count": 30,
      "outputs": [
        {
          "output_type": "execute_result",
          "data": {
            "text/plain": [
              "29.011491975882016"
            ]
          },
          "metadata": {
            "tags": []
          },
          "execution_count": 30
        },
        {
          "output_type": "display_data",
          "data": {
            "image/png": "[encoded data removed]",
            "text/plain": [
              "<Figure size 432x288 with 1 Axes>"
            ]
          },
          "metadata": {
            "tags": [],
            "needs_background": "light"
          }
        }
      ]
    }
  ]
}